{
 "cells": [
  {
   "cell_type": "code",
   "execution_count": 3,
   "metadata": {},
   "outputs": [],
   "source": [
    "from tkinter import *\n",
    "from random import choice\n",
    "from random import shuffle"
   ]
  },
  {
   "cell_type": "code",
   "execution_count": 21,
   "metadata": {},
   "outputs": [],
   "source": [
    "root = Tk()\n",
    "root.geometry('500x500')\n",
    "root.title('word jumble game')\n",
    "root.configure(bg= 'lemon chiffon')\n",
    "\n",
    "label = Label(root, text='', font= ('Helvetica',20))\n",
    "label.pack(pady = 20)\n",
    "\n",
    "\n",
    "def shuffled() :\n",
    "    entry_answer.delete(0,END)\n",
    "    \n",
    "    ans_label.config(text = '')\n",
    "    \n",
    "    word_list = ['cat', 'anaconda', 'bear', 'coyote', 'goose', 'koala', 'duck', 'bird', 'fish', 'chicken', 'octopus']\n",
    "    \n",
    "    \n",
    "    global word \n",
    "    word = choice(word_list)\n",
    "    # print(word)\n",
    "\n",
    "    sep_word = list(word)\n",
    "    shuffle(sep_word)\n",
    "    # print(sep_word)\n",
    "    \n",
    "    global shuffled_word\n",
    "    shuffled_word = \"\"\n",
    "    for letter in sep_word : \n",
    "        shuffled_word += letter\n",
    "    # print(shuffled_word)\n",
    "    \n",
    "    label.config(text= shuffled_word, font=('Helvetica',28))\n",
    "\n",
    "def answer() :\n",
    "    if word == entry_answer.get() :\n",
    "        ans_label.config(text = 'correct')\n",
    "    else : \n",
    "        ans_label.config(text = 'incorrect')\n",
    "\n",
    "entry_answer = Entry(root, font=('Helvetica', 28))\n",
    "entry_answer.pack(pady = 20)\n",
    "\n",
    "ans_button = Button(root, text= 'check', font=('Helvetica', 12),command= answer)\n",
    "ans_button.pack(padx=20,pady=5)\n",
    "\n",
    "next_button = Button(root,text='next', font=('Helvetica', 12),command= shuffled)\n",
    "next_button.pack(padx = 20, pady = 5)\n",
    "\n",
    "ans_label = Label(root, text = '', font=('Helvetica', 20))\n",
    "ans_label.pack(pady= 20)\n",
    "\n",
    "\n",
    "shuffled()\n",
    "root.mainloop()"
   ]
  }
 ],
 "metadata": {
  "interpreter": {
   "hash": "c417760a3ebb3d7087e0b6d3ce6e269f7667c795886eb23bb3f91e27ce1e6b2b"
  },
  "kernelspec": {
   "display_name": "Python 3.8.10 ('base')",
   "language": "python",
   "name": "python3"
  },
  "language_info": {
   "codemirror_mode": {
    "name": "ipython",
    "version": 3
   },
   "file_extension": ".py",
   "mimetype": "text/x-python",
   "name": "python",
   "nbconvert_exporter": "python",
   "pygments_lexer": "ipython3",
   "version": "3.8.10"
  },
  "orig_nbformat": 4
 },
 "nbformat": 4,
 "nbformat_minor": 2
}
